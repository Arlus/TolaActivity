{
 "cells": [
  {
   "cell_type": "code",
   "execution_count": 96,
   "metadata": {
    "collapsed": false
   },
   "outputs": [
    {
     "name": "stdout",
     "output_type": "stream",
     "text": [
      "200 {\"users\":\"http://activity.toladata.io/api/users/\",\"programs\":\"http://activity.toladata.io/api/programs/\",\"sector\":\"http://activity.toladata.io/api/sector/\",\"projecttype\":\"http://activity.toladata.io/api/projecttype/\",\"office\":\"http://activity.toladata.io/api/office/\",\"siteprofile\":\"http://activity.toladata.io/api/siteprofile/\",\"country\":\"http://activity.toladata.io/api/country/\",\"initiations\":\"http://activity.toladata.io/api/projectagreements/\",\"tracking\":\"http://activity.toladata.io/api/tracking/\",\"indicator\":\"http://activity.toladata.io/api/indicator/\",\"reportingfrequency\":\"http://activity.toladata.io/api/reportingfrequency/\",\"tolauser\":\"http://activity.toladata.io/api/tolauser/\",\"indicatortype\":\"http://activity.toladata.io/api/indicatortype/\",\"objective\":\"http://activity.toladata.io/api/objective/\",\"disaggregationtype\":\"http://activity.toladata.io/api/disaggregationtype/\",\"level\":\"http://activity.toladata.io/api/level/\",\"externalservice\":\"http://activity.toladata.io/api/externalservice/\",\"externalservicerecord\":\"http://activity.toladata.io/api/externalservicerecord/\",\"strategicobjective\":\"http://activity.toladata.io/api/strategicobjective/\",\"stakeholder\":\"http://activity.toladata.io/api/stakeholder/\",\"stakeholdertype\":\"http://activity.toladata.io/api/stakeholdertype/\",\"capacity\":\"http://activity.toladata.io/api/capacity/\",\"evaluate\":\"http://activity.toladata.io/api/evaluate/\",\"profiletype\":\"http://activity.toladata.io/api/profiletype/\",\"province\":\"http://activity.toladata.io/api/province/\",\"district\":\"http://activity.toladata.io/api/district/\",\"adminlevelthree\":\"http://activity.toladata.io/api/adminlevelthree/\",\"village\":\"http://activity.toladata.io/api/village/\",\"contact\":\"http://activity.toladata.io/api/contact/\",\"documentation\":\"http://activity.toladata.io/api/documentation/\",\"collecteddata\":\"http://activity.toladata.io/api/collecteddata/\",\"tolatable\":\"http://activity.toladata.io/api/tolatable/\",\"disaggregationvalue\":\"http://activity.toladata.io/api/disaggregationvalue/\",\"projectagreements\":\"http://activity.toladata.io/api/projectagreements/\",\"loggedusers\":\"http://activity.toladata.io/api/loggedusers/\",\"checklist\":\"http://activity.toladata.io/api/checklist/\",\"organization\":\"http://activity.toladata.io/api/organization/\"}\n"
     ]
    }
   ],
   "source": [
    "import requests\n",
    "import json\n",
    "\n",
    "#url = \"http://127.0.0.1:8000/api/indicator/\"\n",
    "url = \"http://activity.toladata.io/api/\"\n",
    "token = \"\"\n",
    "\n",
    "headers = {\n",
    "    'user-agent': 'Mozilla/5.0 (Windows NT 10.0; WOW64; rv:51.0) Gecko/20100101 Firefox/51.0',\n",
    "    'Authorization': 'Token ' + token\n",
    "}\n",
    "\n",
    "response = requests.get(url, headers=headers)\n",
    "content = response.content.decode('utf-8')\n",
    "print response.status_code, content\n",
    "\n",
    "try:\n",
    "    results = json.loads(content)\n",
    "except:\n",
    "    print \"No valid JSON Response\""
   ]
  },
  {
   "cell_type": "code",
   "execution_count": 4,
   "metadata": {
    "collapsed": false
   },
   "outputs": [],
   "source": [
    "import os\n",
    "import sys\n",
    "module_path = os.path.abspath(os.path.join('..'))\n",
    "if module_path not in sys.path:\n",
    "    sys.path.append(module_path)\n",
    "\n",
    "from docs.api.Connection import TolaApiConnection\n",
    "\n",
    "#api = TolaApiConnection(token=\"\", endpoint=\"http://activity.toladata.io\")\n",
    "#localapi = TolaApiConnection(token=\"\", endpoint=\"http://127.0.0.1:8000\")"
   ]
  },
  {
   "cell_type": "markdown",
   "metadata": {},
   "source": [
    "Check how many results we got and for each object print both keys and data"
   ]
  },
  {
   "cell_type": "code",
   "execution_count": 47,
   "metadata": {
    "collapsed": true
   },
   "outputs": [
    {
     "name": "stdout",
     "output_type": "stream",
     "text": [
      "Got 3 results\nObject 0\n  sector None\n  reviewed_by_date None\n  office None\n  community_project_description \n  total_estimated_budget 15000.00\n  lin_code \n  site [u'http://activity.toladata.io/api/siteprofile/5/', u'http://activity.toladata.io/api/siteprofile/6/', u'http://activity.toladata.io/api/siteprofile/7/']\n  effect_or_impact By providing an influx of cash to the economy, people affected by the recent typhoon will be able to more quickly recover and ensure that their basic needs and livelihoods are met.\n  exchange_rate \n  project_description \n  estimated_by_date None\n  project_type None\n  local_total_estimated_budget 0.00\n  id 1\n  project_design \n  risks_assumptions Potential risk that the mobile phone operators or banks will not cooperate or be willing to make adjustments to their business model to work with us.\n  activity_code \n  reviewed_by None\n  description_of_project_activities -Assessment completed and individuals identified to participate -MOU with key partners, mobile phone operators and bank -Mobile phone platform created for distribution of e-cash\n  program http://activity.toladata.io/api/programs/1/\n  approved_by None\n  finance_reviewed_by None\n  approved_by_date 2016-08-01T07:00:00Z\n  description_of_community_involvement \n  local_mc_estimated_budget 0.00\n  project_name Cash transfer program for communities affected by typhoon\n  approval_submitted_by None\n  me_reviewed_by None\n  evaluate []\n  stakeholder [u'http://activity.toladata.io/api/stakeholder/1/']\n  exchange_rate_date None\n  expected_end_date 2016-09-30T07:00:00Z\n  me_reviewed_by_date None\n  justification_description_community_selection \n  capacity []\n  approval approved\n  date_of_request None\n  justification_background \n  project_activity \n  expected_start_date 2015-08-01T07:00:00Z\n  checked_by_date None\n  estimation_date None\n  checked_by None\n  expected_duration \n  approval_remarks \n  finance_reviewed_by_date None\n  account_code \n  estimated_by http://activity.toladata.io/api/tolauser/6/\n  description_of_government_involvement \nObject 1\n  sector http://activity.toladata.io/api/sector/4/\n  reviewed_by_date None\n  office None\n  community_project_description \n  total_estimated_budget 5000.00\n  lin_code \n  site [u'http://activity.toladata.io/api/siteprofile/2/', u'http://activity.toladata.io/api/siteprofile/3/']\n  effect_or_impact Farmers are less vulnerable to shocks\n  exchange_rate \n  project_description \n  estimated_by_date None\n  project_type None\n  local_total_estimated_budget 0.00\n  id 2\n  project_design \n  risks_assumptions Farmers won't attend \r\nLocation is too hard to get to\n  activity_code 90001A001\n  reviewed_by None\n  description_of_project_activities Training for farmers on financial management and planning\n  mc_estimated_budget 0.00\n  program http://activity.toladata.io/api/programs/1/\n  approved_by None\n  finance_reviewed_by None\n  approved_by_date None\n  description_of_community_involvement \n  local_mc_estimated_budget 0.00\n  project_name Financial Management Training\n  approval_submitted_by None\n  me_reviewed_by None\n  evaluate []\n  stakeholder [u'http://activity.toladata.io/api/stakeholder/2/']\n  exchange_rate_date None\n  expected_end_date 2017-04-30T07:00:00Z\n  me_reviewed_by_date None\n  justification_description_community_selection \n  capacity []\n  approval in progress\n  date_of_request None\n  justification_background \n  project_activity \n  expected_start_date 2017-01-01T08:00:00Z\n  checked_by_date None\n  estimation_date None\n  checked_by None\n  expected_duration \n  approval_remarks \n  finance_reviewed_by_date None\n  account_code \n  estimated_by None\n  description_of_government_involvement \nObject 2\n  sector None\n  reviewed_by_date None\n  office None\n  community_project_description \n  total_estimated_budget 0.00\n  lin_code \n  site [u'http://activity.toladata.io/api/siteprofile/5/', u'http://activity.toladata.io/api/siteprofile/1/']\n  effect_or_impact \n  exchange_rate \n  project_description \n  estimated_by_date None\n  project_type None\n  local_total_estimated_budget 0.00\n  id 3\n  project_design \n  risks_assumptions \n  activity_code \n  reviewed_by None\n  description_of_project_activities \n  mc_estimated_budget 0.00\n  program http://activity.toladata.io/api/programs/1/\n  approved_by None\n  finance_reviewed_by None\n  approved_by_date None\n  description_of_community_involvement \n  local_mc_estimated_budget 0.00\n  project_name Humanitec\n  approval_submitted_by None\n  me_reviewed_by None\n  evaluate []\n  stakeholder [u'http://activity.toladata.io/api/stakeholder/3/']\n  exchange_rate_date None\n  expected_end_date 2017-05-31T07:00:00Z\n  me_reviewed_by_date None\n  justification_description_community_selection \n  capacity []\n  approval in progress\n  date_of_request None\n  justification_background \n  project_activity \n  expected_start_date 2017-05-09T07:00:00Z\n  checked_by_date None\n  estimation_date None\n  checked_by None\n  expected_duration \n  approval_remarks \n  finance_reviewed_by_date None\n  account_code \n  estimated_by None\n  description_of_government_involvement \n"
     ]
    }
   ],
   "source": [
    "results = api.get('api/projectagreements/')\n",
    "print \"Got %d results\" % len(results)\n",
    "\n",
    "if type(results) is list:\n",
    "    for obj in results:\n",
    "        print \"Object %d\" % results.index(obj)\n",
    "        for key in obj:\n",
    "            print \" \", key, obj[key]"
   ]
  },
  {
   "cell_type": "code",
   "execution_count": 40,
   "metadata": {
    "collapsed": false
   },
   "outputs": [
    {
     "name": "stdout",
     "output_type": "stream",
     "text": [
      "Got 2 results\nTest failed with message: Related field program could not be loaded\n"
     ]
    }
   ],
   "source": [
    "\"\"\"\n",
    "Define tests\n",
    "\"\"\"\n",
    "fail = False\n",
    "\n",
    "results = localapi.get('api/projectagreements/')\n",
    "print \"Got %d results\" % len(results)\n",
    "\n",
    "# For Project agreements expect project_description to be defined\n",
    "try:\n",
    "    for obj in results:\n",
    "        # check if fields exist\n",
    "        for field in ['project_name', 'project_type', 'project_activity']:\n",
    "            if field not in obj:\n",
    "                raise Exception(\"Required fields dont exist\")\n",
    "        \n",
    "        # check if related objects exist and can be loaded\n",
    "        if 'program' not in obj:\n",
    "            raise Exception(\"Related field program does not exist\")\n",
    "        else:\n",
    "            if 'http' in obj['program']:\n",
    "                localapi.request_get(obj['program'])\n",
    "            else:\n",
    "                raise Exception(\"Related field program could not be loaded\")\n",
    "                # Test connection with program\n",
    "        if fail: \n",
    "            break\n",
    "except Exception, e:\n",
    "    print(\"Test failed with message: \" + str(e))\n",
    "else:\n",
    "    print(\"Test ok\")"
   ]
  },
  {
   "cell_type": "code",
   "execution_count": 5,
   "metadata": {},
   "outputs": [
    {
     "ename": "NameError",
     "evalue": "name 'api' is not defined",
     "traceback": [
      "\u001b[0;31m\u001b[0m",
      "\u001b[0;31mNameError\u001b[0mTraceback (most recent call last)",
      "\u001b[0;32m<ipython-input-5-9ecdcedc0913>\u001b[0m in \u001b[0;36m<module>\u001b[0;34m()\u001b[0m\n\u001b[1;32m      1\u001b[0m \u001b[0;31m# Test 2 Apis for compatibility\u001b[0m\u001b[0;34m\u001b[0m\u001b[0;34m\u001b[0m\u001b[0m\n\u001b[1;32m      2\u001b[0m \u001b[0;34m\u001b[0m\u001b[0m\n\u001b[0;32m----> 3\u001b[0;31m \u001b[0mresults\u001b[0m \u001b[0;34m=\u001b[0m \u001b[0mapi\u001b[0m\u001b[0;34m.\u001b[0m\u001b[0mget\u001b[0m\u001b[0;34m(\u001b[0m\u001b[0;34m'api/projectagreements/'\u001b[0m\u001b[0;34m)\u001b[0m\u001b[0;34m\u001b[0m\u001b[0m\n\u001b[0m\u001b[1;32m      4\u001b[0m \u001b[0;32mprint\u001b[0m \u001b[0;34m\"Got %d results\"\u001b[0m \u001b[0;34m%\u001b[0m \u001b[0mlen\u001b[0m\u001b[0;34m(\u001b[0m\u001b[0mresults\u001b[0m\u001b[0;34m)\u001b[0m\u001b[0;34m\u001b[0m\u001b[0m\n\u001b[1;32m      5\u001b[0m \u001b[0;34m\u001b[0m\u001b[0m\n",
      "\u001b[0;31mNameError\u001b[0m: name 'api' is not defined"
     ],
     "output_type": "error"
    }
   ],
   "source": [
    "# Test 2 Apis for compatibility\n",
    "\n",
    "results = api.get('api/projectagreements/')\n",
    "print \"Got %d results\" % len(results)\n",
    "\n",
    "localresults = localapi.get('api/projectagreements/')\n",
    "print \"Got %d results\" % len(results)"
   ]
  },
  {
   "cell_type": "code",
   "execution_count": 2,
   "metadata": {
    "collapsed": false
   },
   "outputs": [],
   "source": [
    "import json\n",
    "\n",
    "import os\n",
    "from docs.api.Connection import TolaApiConnection\n",
    "\n",
    "from ipykernel.jsonutil import json_clean\n",
    "\n",
    "module_path = os.path.abspath(os.path.join('.'))\n",
    "\n",
    "with open(module_path+\"/docs/api/conf/config.json\", \"r\") as conf_file:\n",
    "    #jsontext = conf_file.read()\n",
    "    #print jsontext\n",
    "    config = json.load(conf_file)\n",
    "    \n",
    "    api = TolaApiConnection(\n",
    "        endpoint=config[\"server\"][0][\"url\"],\n",
    "        token=config[\"server\"][0][\"token\"]\n",
    "    )"
   ]
  },
  {
   "cell_type": "code",
   "execution_count": 10,
   "metadata": {},
   "outputs": [],
   "source": [
    "# some basic API load testing\n",
    "import time\n",
    "for n in range(0,10):\n",
    "    for route in config[\"routes\"]:\n",
    "        api.get(route)\n",
    "    #time.sleep(1)"
   ]
  },
  {
   "cell_type": "code",
   "execution_count": 12,
   "metadata": {
    "collapsed": false
   },
   "outputs": [
    {
     "name": "stdout",
     "output_type": "stream",
     "text": [
      "Data access test\n"
     ]
    },
    {
     "name": "stdout",
     "output_type": "stream",
     "text": [
      "Test ok\n"
     ]
    }
   ],
   "source": [
    "# some basic API integritiy testing\n",
    "import time\n",
    "noauth_api = TolaApiConnection(\n",
    "        endpoint=config[\"server\"][0][\"url\"],\n",
    "        token=\"ABC123\"\n",
    "    )\n",
    "\n",
    "print \"Data access test\"\n",
    "\"\"\"\n",
    "Test if API Endpoints are available without login\n",
    "\"\"\"\n",
    "try:\n",
    "    for route in config[\"routes\"]:\n",
    "        response = noauth_api.get_response(route)\n",
    "        if response.status_code != 403 \\\n",
    "            and response.content is not '{\"detail\":\"Invalid token.\"}':\n",
    "            raise Exception(\"Test failed for route %s\" % (route))\n",
    "except Exception, e:\n",
    "    print(\"Test failed with message: \" + str(e))\n",
    "else:\n",
    "    print(\"Test ok\")"
   ]
  },
  {
   "cell_type": "code",
   "execution_count": null,
   "metadata": {},
   "outputs": [],
   "source": [
    "# some basic API integritiy testing\n",
    "import time\n",
    "wrongauth_api = TolaApiConnection(\n",
    "        endpoint=config[\"server\"][0][\"url\"],\n",
    "        token=\"ABC123\"\n",
    "    )\n",
    "\n",
    "print \"Data access test\"\n",
    "\"\"\"\n",
    "Test if API Endpoints are available without login\n",
    "\"\"\"\n",
    "try:\n",
    "    for route in config[\"routes\"]:\n",
    "        response = noauth_api.get_response(route)\n",
    "        if response.status_code != 403 \\\n",
    "            and response.content is not '{\"detail\":\"Invalid token.\"}':\n",
    "            raise Exception(\"Test failed for route %s\" % (route))\n",
    "except Exception, e:\n",
    "    print(\"Test failed with message: \" + str(e))\n",
    "else:\n",
    "    print(\"Test ok\")"
   ]
  }
 ],
 "metadata": {
  "kernelspec": {
   "display_name": "Python 2",
   "language": "python",
   "name": "python2"
  },
  "language_info": {
   "codemirror_mode": {
    "name": "ipython",
    "version": 2.0
   },
   "file_extension": ".py",
   "mimetype": "text/x-python",
   "name": "python",
   "nbconvert_exporter": "python",
   "pygments_lexer": "ipython2",
   "version": "2.7.6"
  }
 },
 "nbformat": 4,
 "nbformat_minor": 0
}