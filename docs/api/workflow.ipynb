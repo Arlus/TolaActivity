{
 "cells": [
  {
   "cell_type": "code",
   "execution_count": null,
   "metadata": {
    "collapsed": false
   },
   "outputs": [],
   "source": [
    "import requests\n",
    "import json\n",
    "\n",
    "#url = \"http://127.0.0.1:8000/api/indicator/\"\n",
    "url = \"http://activity.toladata.io/api/indicator/\"\n",
    "\n",
    "token = \"\"\n",
    "\n",
    "headers = {\n",
    "    'user-agent': 'Mozilla/5.0 (Windows NT 10.0; WOW64; rv:51.0) Gecko/20100101 Firefox/51.0',\n",
    "    'Authorization': 'Token ' + token\n",
    "}\n",
    "\n",
    "response = requests.get(url, headers=headers)\n",
    "content = response.content.decode('utf-8')\n",
    "print response.status_code\n",
    "\n",
    "try:\n",
    "    results = json.loads(content)\n",
    "except:\n",
    "    print \"No valid JSON Response\""
   ]
  },
  {
   "cell_type": "markdown",
   "metadata": {},
   "source": [
    "Check how many results we got and for each object print both keys and data"
   ]
  },
  {
   "cell_type": "code",
   "execution_count": 59,
   "metadata": {
    "collapsed": true
   },
   "outputs": [
    {
     "name": "stdout",
     "output_type": "stream",
     "text": [
      "Got 1 results\n"
     ]
    }
   ],
   "source": [
    "print \"Got %d results\" % len(results)\n",
    "\n",
    "if type(results) is list:\n",
    "    for obj in results:\n",
    "        print \"Object %d\" % results.index(obj)\n",
    "        for key in obj:\n",
    "            print \" \", key, obj[key]"
   ]
  },
  {
   "cell_type": "code",
   "execution_count": 60,
   "metadata": {
    "collapsed": false
   },
   "outputs": [
    {
     "name": "stdout",
     "output_type": "stream",
     "text": [
      "Test failed\n"
     ]
    }
   ],
   "source": [
    "\"\"\"\n",
    "Define tests\n",
    "\"\"\"\n",
    "fail = False\n",
    "# For Project agreements expect project_description to be defined\n",
    "for obj in results:\n",
    "    if 'sector' not in obj:\n",
    "        fail = True\n",
    "        break\n",
    "        \n",
    "if fail:\n",
    "    print \"Test failed\"\n",
    "else:\n",
    "    print \"Test ok\""
   ]
  },
  {
   "cell_type": "code",
   "execution_count": null,
   "metadata": {},
   "outputs": [],
   "source": [
    ""
   ]
  }
 ],
 "metadata": {
  "kernelspec": {
   "display_name": "Python 2",
   "language": "python",
   "name": "python2"
  },
  "language_info": {
   "codemirror_mode": {
    "name": "ipython",
    "version": 2.0
   },
   "file_extension": ".py",
   "mimetype": "text/x-python",
   "name": "python",
   "nbconvert_exporter": "python",
   "pygments_lexer": "ipython2",
   "version": "2.7.6"
  }
 },
 "nbformat": 4,
 "nbformat_minor": 0
}